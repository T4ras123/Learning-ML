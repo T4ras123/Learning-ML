{
 "cells": [
  {
   "cell_type": "markdown",
   "id": "5ba43326a5bb4fd7",
   "metadata": {},
   "source": [
    "- Do operations\n",
    "- Do forward prop\n",
    "- Do backward prop"
   ]
  },
  {
   "cell_type": "code",
   "execution_count": 2,
   "id": "badb28d1d77a1c92",
   "metadata": {
    "ExecuteTime": {
     "end_time": "2023-12-24T10:19:30.967470900Z",
     "start_time": "2023-12-24T10:19:29.425461700Z"
    }
   },
   "outputs": [],
   "source": [
    "import math\n",
    "import random\n",
    "import numpy as np\n",
    "import matplotlib.pyplot as plt\n"
   ]
  },
  {
   "cell_type": "code",
   "execution_count": 3,
   "outputs": [],
   "source": [
    "class Neuron:\n",
    "    \n",
    "    def __init__(self, nin):\n",
    "        self.w = [Value(random.uniform(-1, 1)) for _ in range(nin)]\n",
    "        self.b = Value(random.uniform(-1, 1))\n",
    "    \n",
    "    def __call__(self, x):\n",
    "        act = sum((wi*xi for wi,xi in zip(self.w, x)), self.b)\n",
    "        out = act.tanh()\n",
    "        return out\n",
    "    \n",
    "    def parameters(self):\n",
    "        return self.w + [self.b]\n",
    "    \n",
    "class Layer:\n",
    "    \n",
    "    def __init__(self, nin, nout):\n",
    "        self.neurons = [Neuron(nin) for _ in range(nout)]\n",
    "        \n",
    "    def __call__(self, x):\n",
    "        outs = [n(x) for n in self.neurons]\n",
    "        return outs[0] if len(outs) == 1 else outs\n",
    "    \n",
    "    def parameters(self):\n",
    "        return [p for neuron in self.neurons for p in neuron.parameters()]\n",
    "\n",
    "class MLP:\n",
    "\n",
    "    def __init__(self, nin, nouts):\n",
    "        sz = [nin] + nouts\n",
    "        self.layers = [Layer(sz[i], sz[i+1]) for i in range(len(nouts))]\n",
    "\n",
    "    def __call__(self, x):\n",
    "        for layer in self.layers:\n",
    "            x = layer(x)\n",
    "        return x\n",
    "\n",
    "    def parameters(self):\n",
    "        return [p for layer in self.layers for p in layer.parameters()]\n",
    "        "
   ],
   "metadata": {
    "collapsed": false,
    "ExecuteTime": {
     "end_time": "2023-12-24T10:19:30.984582900Z",
     "start_time": "2023-12-24T10:19:30.979580900Z"
    }
   },
   "id": "57a7027335eb1cff"
  },
  {
   "cell_type": "code",
   "execution_count": 4,
   "id": "initial_id",
   "metadata": {
    "ExecuteTime": {
     "end_time": "2023-12-24T10:19:31.012021600Z",
     "start_time": "2023-12-24T10:19:30.993587Z"
    }
   },
   "outputs": [],
   "source": [
    "class Value:\n",
    "    \n",
    "    def __init__(self, data, _children=(), _op='', label=''):\n",
    "        self.label = label\n",
    "        self.data = data\n",
    "        self._prev = set(_children)\n",
    "        self._op = _op\n",
    "        self.grad = 0.0\n",
    "        self._backward = lambda: None\n",
    "\n",
    "    def __repr__(self):\n",
    "        return f\"Value(data={self.data})\"\n",
    "    \n",
    "    def __add__(self, other):\n",
    "        out = Value(self.data+other.data, (self, other), '+')\n",
    "        \n",
    "        def _backward(self, other):\n",
    "            self.grad += out.grad \n",
    "            other.grad += out.grad\n",
    "        out._backward = _backward    \n",
    "        return out\n",
    "\n",
    "    def __mul__(self, other):\n",
    "        out = Value(self.data*other.data, (self, other), '*')\n",
    "        \n",
    "        def _backward(self, other):\n",
    "            self.grad += out.grad*other.data\n",
    "            other.grad += out.grad*self.data\n",
    "\n",
    "        out._backward = _backward  \n",
    "        return out\n",
    "    \n",
    "    def tanh(self):\n",
    "        x = Value((math.exp(2*self.data)-1)/(math.exp(2*self.data) +1), (self, ), 'tanh')\n",
    "        \n",
    "        def _backward(self):\n",
    "            self.grad += (1-x.data**2)*x.grad\n",
    "        x._backward = _backward\n",
    "            \n",
    "        return x\n",
    "    \n",
    "    def backward(self):\n",
    "        \n",
    "        topo = []\n",
    "        visited = set()\n",
    "        def build_topo(v):\n",
    "            if v not in visited:\n",
    "                visited.add(v)\n",
    "            for child in v._prev:\n",
    "                build_topo(child)\n",
    "            topo.append(v)\n",
    "        build_topo(self)    \n",
    "        \n",
    "        self.grad = 1.0\n",
    "        for node in reversed(topo):\n",
    "            node._backward      \n",
    "            \n"
   ]
  },
  {
   "cell_type": "code",
   "execution_count": 5,
   "id": "d7e8cd40c5081372",
   "metadata": {
    "ExecuteTime": {
     "end_time": "2023-12-24T10:19:31.015020400Z",
     "start_time": "2023-12-24T10:19:31.006849700Z"
    }
   },
   "outputs": [
    {
     "name": "stdout",
     "output_type": "stream",
     "text": [
      "-0.14888503362331798\n"
     ]
    }
   ],
   "source": [
    "a = Value(4.0, label='a')\n",
    "b = Value(-7.0, label='b')\n",
    "c = Value(0.05); c.label='c'\n",
    "\n",
    "d = a+b; d.label='d'\n",
    "e = d*c; e.label='e'\n",
    "m = e.tanh()\n",
    "print(m.data)\n"
   ]
  },
  {
   "cell_type": "code",
   "execution_count": 7,
   "id": "286570141c14dd5f",
   "metadata": {
    "ExecuteTime": {
     "end_time": "2023-12-24T10:19:31.031470500Z",
     "start_time": "2023-12-24T10:19:31.024387500Z"
    }
   },
   "outputs": [
    {
     "name": "stdout",
     "output_type": "stream",
     "text": [
      "0.0\n"
     ]
    }
   ],
   "source": [
    "print(b.grad)"
   ]
  }
 ],
 "metadata": {
  "kernelspec": {
   "display_name": "Python 3 (ipykernel)",
   "language": "python",
   "name": "python3"
  },
  "language_info": {
   "codemirror_mode": {
    "name": "ipython",
    "version": 3
   },
   "file_extension": ".py",
   "mimetype": "text/x-python",
   "name": "python",
   "nbconvert_exporter": "python",
   "pygments_lexer": "ipython3",
   "version": "3.11.3"
  }
 },
 "nbformat": 4,
 "nbformat_minor": 5
}
